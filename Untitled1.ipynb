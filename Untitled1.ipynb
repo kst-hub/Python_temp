{
 "cells": [
  {
   "cell_type": "code",
   "execution_count": null,
   "id": "c280eeab",
   "metadata": {},
   "outputs": [],
   "source": [
    "a = int(input(\"Enter first number:\"))\n",
    "b = int(input(\"Enter second number:\"))"
   ]
  },
  {
   "cell_type": "code",
   "execution_count": null,
   "id": "12bec013",
   "metadata": {},
   "outputs": [],
   "source": [
    "a, b"
   ]
  },
  {
   "cell_type": "code",
   "execution_count": null,
   "id": "e8b03012",
   "metadata": {},
   "outputs": [],
   "source": [
    "print(type(a))\n",
    "print(type(b))"
   ]
  },
  {
   "cell_type": "code",
   "execution_count": null,
   "id": "11a532e6",
   "metadata": {},
   "outputs": [],
   "source": [
    "fn = int(input('Enter first number:'))\n",
    "sn = int(input('Enter second number:'))\n",
    "\n",
    "print('SUM: ', fn + sn)"
   ]
  },
  {
   "cell_type": "code",
   "execution_count": null,
   "id": "8674bad8",
   "metadata": {},
   "outputs": [],
   "source": [
    "print('Entered valsue is:', bool(input('Married? [True/False]')))"
   ]
  },
  {
   "cell_type": "code",
   "execution_count": null,
   "id": "5bee4a1d",
   "metadata": {},
   "outputs": [],
   "source": [
    "print('Entered valsue is:', bool(input('Married? [True/False]')))"
   ]
  },
  {
   "cell_type": "code",
   "execution_count": null,
   "id": "5bcc3fc3",
   "metadata": {},
   "outputs": [],
   "source": [
    "print('Entered valsue is:', bool(input('Married? [True/False]')))"
   ]
  },
  {
   "cell_type": "code",
   "execution_count": null,
   "id": "c23f3590",
   "metadata": {},
   "outputs": [],
   "source": [
    "eno = int(input('Enter emp no: '))\n",
    "ename = input('Enter name: ')\n",
    "esal = float(input('Salary: '))\n",
    "eaddress = input('Address: ')\n",
    "estatus = eval(input('Is married? [True/False]'))\n",
    "\n",
    "print('\\nBelow are the details, confirm before submittion\\nEMP No\\t: ', eno, '\\nName\\t: ', ename, '\\nSalary\\t: ', esal, '\\nAddress\\t: ', eaddress, '\\nMarrital Status\\t: ', estatus)"
   ]
  },
  {
   "cell_type": "code",
   "execution_count": 10,
   "id": "990c2780",
   "metadata": {},
   "outputs": [
    {
     "name": "stdout",
     "output_type": "stream",
     "text": [
      "Enter 2 numbers:10|20\n",
      "a =  20\n"
     ]
    }
   ],
   "source": [
    "a = input('Enter 2 numbers:').split(\"|\")\n",
    "\n",
    "print('a = ', a[1])"
   ]
  },
  {
   "cell_type": "code",
   "execution_count": 14,
   "id": "501f3a5d",
   "metadata": {},
   "outputs": [
    {
     "name": "stdout",
     "output_type": "stream",
     "text": [
      "Enter value(10,)\n",
      "<class 'tuple'>\n"
     ]
    }
   ],
   "source": [
    "a = eval(input('Enter value'))\n",
    "print(type(a))"
   ]
  },
  {
   "cell_type": "code",
   "execution_count": 15,
   "id": "03de696d",
   "metadata": {},
   "outputs": [
    {
     "name": "stdout",
     "output_type": "stream",
     "text": [
      "Enter a value:10\n",
      "<class 'int'>\n"
     ]
    }
   ],
   "source": [
    "a = eval(input('Enter a value:'))\n",
    "print(type(a))"
   ]
  },
  {
   "cell_type": "code",
   "execution_count": 16,
   "id": "c7472d3d",
   "metadata": {},
   "outputs": [
    {
     "name": "stdout",
     "output_type": "stream",
     "text": [
      "Enter a value:10.5\n",
      "<class 'float'>\n"
     ]
    }
   ],
   "source": [
    "a = eval(input('Enter a value:'))\n",
    "print(type(a))"
   ]
  },
  {
   "cell_type": "code",
   "execution_count": 17,
   "id": "12417e69",
   "metadata": {},
   "outputs": [
    {
     "name": "stdout",
     "output_type": "stream",
     "text": [
      "Enter a value:12w\n"
     ]
    },
    {
     "ename": "SyntaxError",
     "evalue": "invalid decimal literal (<string>, line 1)",
     "output_type": "error",
     "traceback": [
      "Traceback \u001b[0;36m(most recent call last)\u001b[0m:\n",
      "  File \u001b[1;32m\"/Library/Frameworks/Python.framework/Versions/3.10/lib/python3.10/site-packages/IPython/core/interactiveshell.py\"\u001b[0m, line \u001b[1;32m3457\u001b[0m, in \u001b[1;35mrun_code\u001b[0m\n    exec(code_obj, self.user_global_ns, self.user_ns)\n",
      "\u001b[0;36m  File \u001b[0;32m\"/var/folders/nv/l7969_810hq3pw_tqvvz4p2h0000gn/T/ipykernel_965/3751765946.py\"\u001b[0;36m, line \u001b[0;32m1\u001b[0;36m, in \u001b[0;35m<module>\u001b[0;36m\u001b[0m\n\u001b[0;31m    a = eval(input('Enter a value:'))\u001b[0m\n",
      "\u001b[0;36m  File \u001b[0;32m\"<string>\"\u001b[0;36m, line \u001b[0;32m1\u001b[0m\n\u001b[0;31m    12w\u001b[0m\n\u001b[0m     ^\u001b[0m\n\u001b[0;31mSyntaxError\u001b[0m\u001b[0;31m:\u001b[0m invalid decimal literal\n"
     ]
    }
   ],
   "source": [
    "a = eval(input('Enter a value:'))\n",
    "print(type(a))"
   ]
  },
  {
   "cell_type": "code",
   "execution_count": 18,
   "id": "d7563416",
   "metadata": {},
   "outputs": [
    {
     "name": "stdout",
     "output_type": "stream",
     "text": [
      "Enter a value:'12w'\n",
      "<class 'str'>\n"
     ]
    }
   ],
   "source": [
    "a = eval(input('Enter a value:'))\n",
    "print(type(a))"
   ]
  },
  {
   "cell_type": "code",
   "execution_count": 19,
   "id": "490a452c",
   "metadata": {},
   "outputs": [
    {
     "name": "stdout",
     "output_type": "stream",
     "text": [
      "Enter a value:[10, 20, 30]\n",
      "<class 'list'>\n"
     ]
    }
   ],
   "source": [
    "a = eval(input('Enter a value:'))\n",
    "print(type(a))"
   ]
  },
  {
   "cell_type": "code",
   "execution_count": 20,
   "id": "2fe787bb",
   "metadata": {},
   "outputs": [
    {
     "name": "stdout",
     "output_type": "stream",
     "text": [
      "Enter a value:(10, 20, 30)\n",
      "<class 'tuple'>\n"
     ]
    }
   ],
   "source": [
    "a = eval(input('Enter a value:'))\n",
    "print(type(a))"
   ]
  },
  {
   "cell_type": "code",
   "execution_count": 21,
   "id": "41286f56",
   "metadata": {},
   "outputs": [
    {
     "name": "stdout",
     "output_type": "stream",
     "text": [
      "Enter a value:{10, 20, 30}\n",
      "<class 'set'>\n"
     ]
    }
   ],
   "source": [
    "a = eval(input('Enter a value:'))\n",
    "print(type(a))"
   ]
  },
  {
   "cell_type": "code",
   "execution_count": 22,
   "id": "73a49258",
   "metadata": {},
   "outputs": [
    {
     "ename": "TypeError",
     "evalue": "eval() arg 1 must be a string, bytes or code object",
     "output_type": "error",
     "traceback": [
      "\u001b[0;31m---------------------------------------------------------------------------\u001b[0m",
      "\u001b[0;31mTypeError\u001b[0m                                 Traceback (most recent call last)",
      "\u001b[0;32m/var/folders/nv/l7969_810hq3pw_tqvvz4p2h0000gn/T/ipykernel_965/2588265035.py\u001b[0m in \u001b[0;36m<module>\u001b[0;34m\u001b[0m\n\u001b[0;32m----> 1\u001b[0;31m \u001b[0mprint\u001b[0m\u001b[0;34m(\u001b[0m\u001b[0meval\u001b[0m\u001b[0;34m(\u001b[0m\u001b[0;36m10\u001b[0m\u001b[0;34m+\u001b[0m\u001b[0;36m20\u001b[0m\u001b[0;34m)\u001b[0m\u001b[0;34m)\u001b[0m\u001b[0;34m\u001b[0m\u001b[0;34m\u001b[0m\u001b[0m\n\u001b[0m",
      "\u001b[0;31mTypeError\u001b[0m: eval() arg 1 must be a string, bytes or code object"
     ]
    }
   ],
   "source": [
    "print(eval(10+20))"
   ]
  },
  {
   "cell_type": "code",
   "execution_count": 24,
   "id": "f8942d20",
   "metadata": {},
   "outputs": [
    {
     "name": "stdout",
     "output_type": "stream",
     "text": [
      "30\n"
     ]
    }
   ],
   "source": [
    "print(eval('10+20'))"
   ]
  },
  {
   "cell_type": "code",
   "execution_count": 26,
   "id": "d20bf89f",
   "metadata": {},
   "outputs": [
    {
     "name": "stdout",
     "output_type": "stream",
     "text": [
      "6.990506666666666e+28\n"
     ]
    }
   ],
   "source": [
    "print(eval('10+20**23//12/23*23'))"
   ]
  },
  {
   "cell_type": "code",
   "execution_count": null,
   "id": "18e8de12",
   "metadata": {},
   "outputs": [],
   "source": []
  }
 ],
 "metadata": {
  "kernelspec": {
   "display_name": "Python 3 (ipykernel)",
   "language": "python",
   "name": "python3"
  },
  "language_info": {
   "codemirror_mode": {
    "name": "ipython",
    "version": 3
   },
   "file_extension": ".py",
   "mimetype": "text/x-python",
   "name": "python",
   "nbconvert_exporter": "python",
   "pygments_lexer": "ipython3",
   "version": "3.10.1"
  }
 },
 "nbformat": 4,
 "nbformat_minor": 5
}
